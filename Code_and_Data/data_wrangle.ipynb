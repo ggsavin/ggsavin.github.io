{
 "cells": [
  {
   "cell_type": "markdown",
   "metadata": {},
   "source": [
    "### Wrangling KJF data \n",
    "Below is what I did to wrangle the KJF data into something better"
   ]
  },
  {
   "cell_type": "code",
   "execution_count": 23,
   "metadata": {},
   "outputs": [],
   "source": [
    "values = []\n",
    "weights = []\n",
    "with open(\"data/10000_values.txt\", \"r\") as txt_file:\n",
    "    for line in txt_file:\n",
    "        values += line.strip('\\n').split('\\t')\n",
    "with open(\"data/10000_weights.txt\", \"r\") as txt_file:\n",
    "    for line in txt_file:\n",
    "        weights += line.strip('\\n').split('\\t')"
   ]
  },
  {
   "cell_type": "code",
   "execution_count": 24,
   "metadata": {},
   "outputs": [],
   "source": [
    "with open(\"test_10000.txt\", \"w\") as txt_file:\n",
    "    txt_file.write(\"10000\\n\")\n",
    "    txt_file.write(\"50\\n\")\n",
    "    for v, w in zip(values , weights):\n",
    "        txt_file.write(f\"{w}\\t{v}\\n\")"
   ]
  }
 ],
 "metadata": {
  "kernelspec": {
   "display_name": "Python 3.8.10 64-bit",
   "language": "python",
   "name": "python3"
  },
  "language_info": {
   "codemirror_mode": {
    "name": "ipython",
    "version": 3
   },
   "file_extension": ".py",
   "mimetype": "text/x-python",
   "name": "python",
   "nbconvert_exporter": "python",
   "pygments_lexer": "ipython3",
   "version": "3.8.10"
  },
  "orig_nbformat": 4,
  "vscode": {
   "interpreter": {
    "hash": "31f2aee4e71d21fbe5cf8b01ff0e069b9275f58929596ceb00d14d90e3e16cd6"
   }
  }
 },
 "nbformat": 4,
 "nbformat_minor": 2
}
